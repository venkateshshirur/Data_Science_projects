{
 "cells": [
  {
   "cell_type": "code",
   "execution_count": 1,
   "metadata": {},
   "outputs": [],
   "source": [
    "# Importing libraries\n",
    "import warnings \n",
    "warnings.filterwarnings('ignore')\n",
    "import numpy as np\n",
    "import pandas as pd\n",
    "import matplotlib.pyplot as plt\n",
    "import seaborn as sns"
   ]
  },
  {
   "cell_type": "code",
   "execution_count": 2,
   "metadata": {},
   "outputs": [
    {
     "data": {
      "text/html": [
       "<div>\n",
       "<style scoped>\n",
       "    .dataframe tbody tr th:only-of-type {\n",
       "        vertical-align: middle;\n",
       "    }\n",
       "\n",
       "    .dataframe tbody tr th {\n",
       "        vertical-align: top;\n",
       "    }\n",
       "\n",
       "    .dataframe thead th {\n",
       "        text-align: right;\n",
       "    }\n",
       "</style>\n",
       "<table border=\"1\" class=\"dataframe\">\n",
       "  <thead>\n",
       "    <tr style=\"text-align: right;\">\n",
       "      <th></th>\n",
       "      <th>anime_id</th>\n",
       "      <th>name</th>\n",
       "      <th>genre</th>\n",
       "      <th>type</th>\n",
       "      <th>episodes</th>\n",
       "      <th>rating</th>\n",
       "      <th>members</th>\n",
       "    </tr>\n",
       "  </thead>\n",
       "  <tbody>\n",
       "    <tr>\n",
       "      <th>0</th>\n",
       "      <td>32281</td>\n",
       "      <td>Kimi no Na wa.</td>\n",
       "      <td>Drama, Romance, School, Supernatural</td>\n",
       "      <td>Movie</td>\n",
       "      <td>1</td>\n",
       "      <td>9.37</td>\n",
       "      <td>200630</td>\n",
       "    </tr>\n",
       "    <tr>\n",
       "      <th>1</th>\n",
       "      <td>5114</td>\n",
       "      <td>Fullmetal Alchemist: Brotherhood</td>\n",
       "      <td>Action, Adventure, Drama, Fantasy, Magic, Mili...</td>\n",
       "      <td>TV</td>\n",
       "      <td>64</td>\n",
       "      <td>9.26</td>\n",
       "      <td>793665</td>\n",
       "    </tr>\n",
       "    <tr>\n",
       "      <th>2</th>\n",
       "      <td>28977</td>\n",
       "      <td>Gintama°</td>\n",
       "      <td>Action, Comedy, Historical, Parody, Samurai, S...</td>\n",
       "      <td>TV</td>\n",
       "      <td>51</td>\n",
       "      <td>9.25</td>\n",
       "      <td>114262</td>\n",
       "    </tr>\n",
       "    <tr>\n",
       "      <th>3</th>\n",
       "      <td>9253</td>\n",
       "      <td>Steins;Gate</td>\n",
       "      <td>Sci-Fi, Thriller</td>\n",
       "      <td>TV</td>\n",
       "      <td>24</td>\n",
       "      <td>9.17</td>\n",
       "      <td>673572</td>\n",
       "    </tr>\n",
       "    <tr>\n",
       "      <th>4</th>\n",
       "      <td>9969</td>\n",
       "      <td>Gintama&amp;#039;</td>\n",
       "      <td>Action, Comedy, Historical, Parody, Samurai, S...</td>\n",
       "      <td>TV</td>\n",
       "      <td>51</td>\n",
       "      <td>9.16</td>\n",
       "      <td>151266</td>\n",
       "    </tr>\n",
       "  </tbody>\n",
       "</table>\n",
       "</div>"
      ],
      "text/plain": [
       "   anime_id                              name  \\\n",
       "0     32281                    Kimi no Na wa.   \n",
       "1      5114  Fullmetal Alchemist: Brotherhood   \n",
       "2     28977                          Gintama°   \n",
       "3      9253                       Steins;Gate   \n",
       "4      9969                     Gintama&#039;   \n",
       "\n",
       "                                               genre   type episodes  rating  \\\n",
       "0               Drama, Romance, School, Supernatural  Movie        1    9.37   \n",
       "1  Action, Adventure, Drama, Fantasy, Magic, Mili...     TV       64    9.26   \n",
       "2  Action, Comedy, Historical, Parody, Samurai, S...     TV       51    9.25   \n",
       "3                                   Sci-Fi, Thriller     TV       24    9.17   \n",
       "4  Action, Comedy, Historical, Parody, Samurai, S...     TV       51    9.16   \n",
       "\n",
       "   members  \n",
       "0   200630  \n",
       "1   793665  \n",
       "2   114262  \n",
       "3   673572  \n",
       "4   151266  "
      ]
     },
     "execution_count": 2,
     "metadata": {},
     "output_type": "execute_result"
    }
   ],
   "source": [
    "data = pd.read_csv('anime.csv')\n",
    "data.head(5)"
   ]
  },
  {
   "cell_type": "code",
   "execution_count": 3,
   "metadata": {},
   "outputs": [
    {
     "data": {
      "text/plain": [
       "(12294, 7)"
      ]
     },
     "execution_count": 3,
     "metadata": {},
     "output_type": "execute_result"
    }
   ],
   "source": [
    "data.shape"
   ]
  },
  {
   "cell_type": "code",
   "execution_count": 4,
   "metadata": {},
   "outputs": [
    {
     "name": "stdout",
     "output_type": "stream",
     "text": [
      "<class 'pandas.core.frame.DataFrame'>\n",
      "RangeIndex: 12294 entries, 0 to 12293\n",
      "Data columns (total 7 columns):\n",
      " #   Column    Non-Null Count  Dtype  \n",
      "---  ------    --------------  -----  \n",
      " 0   anime_id  12294 non-null  int64  \n",
      " 1   name      12294 non-null  object \n",
      " 2   genre     12232 non-null  object \n",
      " 3   type      12269 non-null  object \n",
      " 4   episodes  12294 non-null  object \n",
      " 5   rating    12064 non-null  float64\n",
      " 6   members   12294 non-null  int64  \n",
      "dtypes: float64(1), int64(2), object(4)\n",
      "memory usage: 672.5+ KB\n"
     ]
    }
   ],
   "source": [
    "data.info()"
   ]
  },
  {
   "cell_type": "code",
   "execution_count": 5,
   "metadata": {},
   "outputs": [
    {
     "data": {
      "text/plain": [
       "anime_id      0\n",
       "name          0\n",
       "genre        62\n",
       "type         25\n",
       "episodes      0\n",
       "rating      230\n",
       "members       0\n",
       "dtype: int64"
      ]
     },
     "execution_count": 5,
     "metadata": {},
     "output_type": "execute_result"
    }
   ],
   "source": [
    "data.isnull().sum() #checking for missing values"
   ]
  },
  {
   "cell_type": "code",
   "execution_count": 6,
   "metadata": {},
   "outputs": [],
   "source": [
    "df1 = data.dropna() #dropping the null values(rows)"
   ]
  },
  {
   "cell_type": "code",
   "execution_count": 7,
   "metadata": {},
   "outputs": [
    {
     "data": {
      "text/plain": [
       "anime_id    0\n",
       "name        0\n",
       "genre       0\n",
       "type        0\n",
       "episodes    0\n",
       "rating      0\n",
       "members     0\n",
       "dtype: int64"
      ]
     },
     "execution_count": 7,
     "metadata": {},
     "output_type": "execute_result"
    }
   ],
   "source": [
    "df1.isnull().sum()"
   ]
  },
  {
   "cell_type": "code",
   "execution_count": 8,
   "metadata": {},
   "outputs": [
    {
     "data": {
      "text/plain": [
       "0"
      ]
     },
     "execution_count": 8,
     "metadata": {},
     "output_type": "execute_result"
    }
   ],
   "source": [
    "# checking for duplicate values\n",
    "\n",
    "df1.duplicated().sum()"
   ]
  },
  {
   "cell_type": "markdown",
   "metadata": {},
   "source": [
    "no duplicate values"
   ]
  },
  {
   "cell_type": "code",
   "execution_count": 9,
   "metadata": {},
   "outputs": [
    {
     "data": {
      "text/plain": [
       "Index(['anime_id', 'name', 'genre', 'type', 'episodes', 'rating', 'members'], dtype='object')"
      ]
     },
     "execution_count": 9,
     "metadata": {},
     "output_type": "execute_result"
    }
   ],
   "source": [
    "df1.columns"
   ]
  },
  {
   "cell_type": "code",
   "execution_count": 10,
   "metadata": {},
   "outputs": [
    {
     "name": "stdout",
     "output_type": "stream",
     "text": [
      "<class 'pandas.core.frame.DataFrame'>\n",
      "Int64Index: 12017 entries, 0 to 12293\n",
      "Data columns (total 7 columns):\n",
      " #   Column    Non-Null Count  Dtype  \n",
      "---  ------    --------------  -----  \n",
      " 0   anime_id  12017 non-null  int64  \n",
      " 1   name      12017 non-null  object \n",
      " 2   genre     12017 non-null  object \n",
      " 3   type      12017 non-null  object \n",
      " 4   episodes  12017 non-null  object \n",
      " 5   rating    12017 non-null  float64\n",
      " 6   members   12017 non-null  int64  \n",
      "dtypes: float64(1), int64(2), object(4)\n",
      "memory usage: 751.1+ KB\n"
     ]
    }
   ],
   "source": [
    "df1.info()"
   ]
  },
  {
   "cell_type": "code",
   "execution_count": 11,
   "metadata": {},
   "outputs": [
    {
     "data": {
      "text/html": [
       "<div>\n",
       "<style scoped>\n",
       "    .dataframe tbody tr th:only-of-type {\n",
       "        vertical-align: middle;\n",
       "    }\n",
       "\n",
       "    .dataframe tbody tr th {\n",
       "        vertical-align: top;\n",
       "    }\n",
       "\n",
       "    .dataframe thead th {\n",
       "        text-align: right;\n",
       "    }\n",
       "</style>\n",
       "<table border=\"1\" class=\"dataframe\">\n",
       "  <thead>\n",
       "    <tr style=\"text-align: right;\">\n",
       "      <th></th>\n",
       "      <th>anime_id</th>\n",
       "      <th>rating</th>\n",
       "      <th>members</th>\n",
       "    </tr>\n",
       "  </thead>\n",
       "  <tbody>\n",
       "    <tr>\n",
       "      <th>count</th>\n",
       "      <td>12017.000000</td>\n",
       "      <td>12017.000000</td>\n",
       "      <td>1.201700e+04</td>\n",
       "    </tr>\n",
       "    <tr>\n",
       "      <th>mean</th>\n",
       "      <td>13638.001165</td>\n",
       "      <td>6.478264</td>\n",
       "      <td>1.834888e+04</td>\n",
       "    </tr>\n",
       "    <tr>\n",
       "      <th>std</th>\n",
       "      <td>11231.076675</td>\n",
       "      <td>1.023857</td>\n",
       "      <td>5.537250e+04</td>\n",
       "    </tr>\n",
       "    <tr>\n",
       "      <th>min</th>\n",
       "      <td>1.000000</td>\n",
       "      <td>1.670000</td>\n",
       "      <td>1.200000e+01</td>\n",
       "    </tr>\n",
       "    <tr>\n",
       "      <th>25%</th>\n",
       "      <td>3391.000000</td>\n",
       "      <td>5.890000</td>\n",
       "      <td>2.250000e+02</td>\n",
       "    </tr>\n",
       "    <tr>\n",
       "      <th>50%</th>\n",
       "      <td>9959.000000</td>\n",
       "      <td>6.570000</td>\n",
       "      <td>1.552000e+03</td>\n",
       "    </tr>\n",
       "    <tr>\n",
       "      <th>75%</th>\n",
       "      <td>23729.000000</td>\n",
       "      <td>7.180000</td>\n",
       "      <td>9.588000e+03</td>\n",
       "    </tr>\n",
       "    <tr>\n",
       "      <th>max</th>\n",
       "      <td>34519.000000</td>\n",
       "      <td>10.000000</td>\n",
       "      <td>1.013917e+06</td>\n",
       "    </tr>\n",
       "  </tbody>\n",
       "</table>\n",
       "</div>"
      ],
      "text/plain": [
       "           anime_id        rating       members\n",
       "count  12017.000000  12017.000000  1.201700e+04\n",
       "mean   13638.001165      6.478264  1.834888e+04\n",
       "std    11231.076675      1.023857  5.537250e+04\n",
       "min        1.000000      1.670000  1.200000e+01\n",
       "25%     3391.000000      5.890000  2.250000e+02\n",
       "50%     9959.000000      6.570000  1.552000e+03\n",
       "75%    23729.000000      7.180000  9.588000e+03\n",
       "max    34519.000000     10.000000  1.013917e+06"
      ]
     },
     "execution_count": 11,
     "metadata": {},
     "output_type": "execute_result"
    }
   ],
   "source": [
    "df1.describe()"
   ]
  },
  {
   "cell_type": "code",
   "execution_count": 12,
   "metadata": {},
   "outputs": [
    {
     "data": {
      "text/plain": [
       "anime_id    12017\n",
       "name        12015\n",
       "genre        3229\n",
       "type            6\n",
       "episodes      187\n",
       "rating        598\n",
       "members      6596\n",
       "dtype: int64"
      ]
     },
     "execution_count": 12,
     "metadata": {},
     "output_type": "execute_result"
    }
   ],
   "source": [
    "df1.nunique() # checking unique values"
   ]
  },
  {
   "cell_type": "code",
   "execution_count": 13,
   "metadata": {},
   "outputs": [
    {
     "data": {
      "text/plain": [
       "Hentai                                                   816\n",
       "Comedy                                                   521\n",
       "Music                                                    297\n",
       "Kids                                                     197\n",
       "Comedy, Slice of Life                                    174\n",
       "                                                        ... \n",
       "Adventure, Comedy, Horror, Shounen, Supernatural           1\n",
       "Comedy, Harem, Romance, School, Seinen, Slice of Life      1\n",
       "Comedy, Ecchi, Sci-Fi, Shounen                             1\n",
       "Adventure, Shounen, Sports                                 1\n",
       "Hentai, Slice of Life                                      1\n",
       "Name: genre, Length: 3229, dtype: int64"
      ]
     },
     "execution_count": 13,
     "metadata": {},
     "output_type": "execute_result"
    }
   ],
   "source": [
    "df1['genre'].value_counts()"
   ]
  },
  {
   "cell_type": "markdown",
   "metadata": {},
   "source": [
    "Visualization"
   ]
  },
  {
   "cell_type": "code",
   "execution_count": 14,
   "metadata": {},
   "outputs": [
    {
     "data": {
      "image/png": "[encoded data removed]",
      "text/plain": [
       "<Figure size 1000x600 with 1 Axes>"
      ]
     },
     "metadata": {},
     "output_type": "display_data"
    }
   ],
   "source": [
    "plt.figure(figsize=(10, 6))\n",
    "plt.hist(df1['rating'], bins=20, edgecolor='black')\n",
    "plt.title('Distribution of Ratings')\n",
    "plt.xlabel('Rating')\n",
    "plt.ylabel('Frequency')\n",
    "plt.grid(axis='y',alpha = 0.2 , linestyle=\"--\") \n",
    "#linestyle is type of line\n",
    "#alpha is the opacity of the grid\n",
    "plt.show()"
   ]
  },
  {
   "cell_type": "code",
   "execution_count": 15,
   "metadata": {},
   "outputs": [
    {
     "data": {
      "image/png": "[encoded data removed]",
      "text/plain": [
       "<Figure size 1000x600 with 1 Axes>"
      ]
     },
     "metadata": {},
     "output_type": "display_data"
    }
   ],
   "source": [
    "top_genres = df1['genre'].value_counts().head(10)\n",
    "\n",
    "plt.figure(figsize=(10, 6))\n",
    "top_genres.plot(kind='barh', color='skyblue', edgecolor='black')\n",
    "plt.title('Top 10 Genres Distribution')\n",
    "plt.xlabel('Count')\n",
    "plt.ylabel('Genre')\n",
    "plt.grid(axis='x', linestyle='--', alpha=0.7)\n",
    "plt.show()"
   ]
  },
  {
   "cell_type": "markdown",
   "metadata": {},
   "source": [
    "Feature extraction"
   ]
  },
  {
   "cell_type": "code",
   "execution_count": 16,
   "metadata": {},
   "outputs": [],
   "source": [
    "# Converting categorical features \"genre\" into numerical representations using One-hot encode\n",
    "\n",
    "genres = df1['genre'].str.get_dummies(sep=', ')\n",
    "df_numerical = pd.concat([df1.drop('genre', axis=1), genres], axis=1)"
   ]
  },
  {
   "cell_type": "code",
   "execution_count": 17,
   "metadata": {},
   "outputs": [
    {
     "data": {
      "text/html": [
       "<div>\n",
       "<style scoped>\n",
       "    .dataframe tbody tr th:only-of-type {\n",
       "        vertical-align: middle;\n",
       "    }\n",
       "\n",
       "    .dataframe tbody tr th {\n",
       "        vertical-align: top;\n",
       "    }\n",
       "\n",
       "    .dataframe thead th {\n",
       "        text-align: right;\n",
       "    }\n",
       "</style>\n",
       "<table border=\"1\" class=\"dataframe\">\n",
       "  <thead>\n",
       "    <tr style=\"text-align: right;\">\n",
       "      <th></th>\n",
       "      <th>anime_id</th>\n",
       "      <th>name</th>\n",
       "      <th>type</th>\n",
       "      <th>episodes</th>\n",
       "      <th>rating</th>\n",
       "      <th>members</th>\n",
       "      <th>Action</th>\n",
       "      <th>Adventure</th>\n",
       "      <th>Cars</th>\n",
       "      <th>Comedy</th>\n",
       "      <th>...</th>\n",
       "      <th>Shounen Ai</th>\n",
       "      <th>Slice of Life</th>\n",
       "      <th>Space</th>\n",
       "      <th>Sports</th>\n",
       "      <th>Super Power</th>\n",
       "      <th>Supernatural</th>\n",
       "      <th>Thriller</th>\n",
       "      <th>Vampire</th>\n",
       "      <th>Yaoi</th>\n",
       "      <th>Yuri</th>\n",
       "    </tr>\n",
       "  </thead>\n",
       "  <tbody>\n",
       "    <tr>\n",
       "      <th>0</th>\n",
       "      <td>32281</td>\n",
       "      <td>Kimi no Na wa.</td>\n",
       "      <td>Movie</td>\n",
       "      <td>1</td>\n",
       "      <td>2.824474</td>\n",
       "      <td>3.292044</td>\n",
       "      <td>0</td>\n",
       "      <td>0</td>\n",
       "      <td>0</td>\n",
       "      <td>0</td>\n",
       "      <td>...</td>\n",
       "      <td>0</td>\n",
       "      <td>0</td>\n",
       "      <td>0</td>\n",
       "      <td>0</td>\n",
       "      <td>0</td>\n",
       "      <td>1</td>\n",
       "      <td>0</td>\n",
       "      <td>0</td>\n",
       "      <td>0</td>\n",
       "      <td>0</td>\n",
       "    </tr>\n",
       "    <tr>\n",
       "      <th>1</th>\n",
       "      <td>5114</td>\n",
       "      <td>Fullmetal Alchemist: Brotherhood</td>\n",
       "      <td>TV</td>\n",
       "      <td>64</td>\n",
       "      <td>2.717032</td>\n",
       "      <td>14.002410</td>\n",
       "      <td>1</td>\n",
       "      <td>1</td>\n",
       "      <td>0</td>\n",
       "      <td>0</td>\n",
       "      <td>...</td>\n",
       "      <td>0</td>\n",
       "      <td>0</td>\n",
       "      <td>0</td>\n",
       "      <td>0</td>\n",
       "      <td>0</td>\n",
       "      <td>0</td>\n",
       "      <td>0</td>\n",
       "      <td>0</td>\n",
       "      <td>0</td>\n",
       "      <td>0</td>\n",
       "    </tr>\n",
       "    <tr>\n",
       "      <th>2</th>\n",
       "      <td>28977</td>\n",
       "      <td>Gintama°</td>\n",
       "      <td>TV</td>\n",
       "      <td>51</td>\n",
       "      <td>2.707265</td>\n",
       "      <td>1.732216</td>\n",
       "      <td>1</td>\n",
       "      <td>0</td>\n",
       "      <td>0</td>\n",
       "      <td>1</td>\n",
       "      <td>...</td>\n",
       "      <td>0</td>\n",
       "      <td>0</td>\n",
       "      <td>0</td>\n",
       "      <td>0</td>\n",
       "      <td>0</td>\n",
       "      <td>0</td>\n",
       "      <td>0</td>\n",
       "      <td>0</td>\n",
       "      <td>0</td>\n",
       "      <td>0</td>\n",
       "    </tr>\n",
       "    <tr>\n",
       "      <th>3</th>\n",
       "      <td>9253</td>\n",
       "      <td>Steins;Gate</td>\n",
       "      <td>TV</td>\n",
       "      <td>24</td>\n",
       "      <td>2.629126</td>\n",
       "      <td>11.833499</td>\n",
       "      <td>0</td>\n",
       "      <td>0</td>\n",
       "      <td>0</td>\n",
       "      <td>0</td>\n",
       "      <td>...</td>\n",
       "      <td>0</td>\n",
       "      <td>0</td>\n",
       "      <td>0</td>\n",
       "      <td>0</td>\n",
       "      <td>0</td>\n",
       "      <td>0</td>\n",
       "      <td>1</td>\n",
       "      <td>0</td>\n",
       "      <td>0</td>\n",
       "      <td>0</td>\n",
       "    </tr>\n",
       "    <tr>\n",
       "      <th>4</th>\n",
       "      <td>9969</td>\n",
       "      <td>Gintama&amp;#039;</td>\n",
       "      <td>TV</td>\n",
       "      <td>51</td>\n",
       "      <td>2.619358</td>\n",
       "      <td>2.400518</td>\n",
       "      <td>1</td>\n",
       "      <td>0</td>\n",
       "      <td>0</td>\n",
       "      <td>1</td>\n",
       "      <td>...</td>\n",
       "      <td>0</td>\n",
       "      <td>0</td>\n",
       "      <td>0</td>\n",
       "      <td>0</td>\n",
       "      <td>0</td>\n",
       "      <td>0</td>\n",
       "      <td>0</td>\n",
       "      <td>0</td>\n",
       "      <td>0</td>\n",
       "      <td>0</td>\n",
       "    </tr>\n",
       "  </tbody>\n",
       "</table>\n",
       "<p>5 rows × 49 columns</p>\n",
       "</div>"
      ],
      "text/plain": [
       "   anime_id                              name   type episodes    rating  \\\n",
       "0     32281                    Kimi no Na wa.  Movie        1  2.824474   \n",
       "1      5114  Fullmetal Alchemist: Brotherhood     TV       64  2.717032   \n",
       "2     28977                          Gintama°     TV       51  2.707265   \n",
       "3      9253                       Steins;Gate     TV       24  2.629126   \n",
       "4      9969                     Gintama&#039;     TV       51  2.619358   \n",
       "\n",
       "     members  Action  Adventure  Cars  Comedy  ...  Shounen Ai  Slice of Life  \\\n",
       "0   3.292044       0          0     0       0  ...           0              0   \n",
       "1  14.002410       1          1     0       0  ...           0              0   \n",
       "2   1.732216       1          0     0       1  ...           0              0   \n",
       "3  11.833499       0          0     0       0  ...           0              0   \n",
       "4   2.400518       1          0     0       1  ...           0              0   \n",
       "\n",
       "   Space  Sports  Super Power  Supernatural  Thriller  Vampire  Yaoi  Yuri  \n",
       "0      0       0            0             1         0        0     0     0  \n",
       "1      0       0            0             0         0        0     0     0  \n",
       "2      0       0            0             0         0        0     0     0  \n",
       "3      0       0            0             0         1        0     0     0  \n",
       "4      0       0            0             0         0        0     0     0  \n",
       "\n",
       "[5 rows x 49 columns]"
      ]
     },
     "execution_count": 17,
     "metadata": {},
     "output_type": "execute_result"
    }
   ],
   "source": [
    "# standardization\n",
    "from sklearn.preprocessing import StandardScaler\n",
    "\n",
    "scaler = StandardScaler()\n",
    "numerical_cols = ['rating', 'members']\n",
    "df_numerical[numerical_cols] = scaler.fit_transform(df_numerical[numerical_cols])\n",
    "\n",
    "df_numerical.head()"
   ]
  },
  {
   "cell_type": "code",
   "execution_count": 18,
   "metadata": {},
   "outputs": [
    {
     "data": {
      "image/png": "[encoded data removed]",
      "text/plain": [
       "<Figure size 1200x600 with 1 Axes>"
      ]
     },
     "metadata": {},
     "output_type": "display_data"
    }
   ],
   "source": [
    "genre_counts = df1['genre'].value_counts().head(10)\n",
    "\n",
    "plt.figure(figsize=(12, 6))\n",
    "plt.bar(genre_counts.index, genre_counts.values, color='skyblue')\n",
    "plt.title('Distribution of Genres')\n",
    "plt.xlabel('Genres')\n",
    "plt.ylabel('Count')\n",
    "plt.xticks(rotation=45, ha='right')\n",
    "plt.grid(axis='y', linestyle='--', alpha=0.7)\n",
    "plt.show()"
   ]
  },
  {
   "cell_type": "code",
   "execution_count": 19,
   "metadata": {},
   "outputs": [
    {
     "data": {
      "image/png": "[encoded data removed]",
      "text/plain": [
       "<Figure size 1600x1600 with 1 Axes>"
      ]
     },
     "metadata": {},
     "output_type": "display_data"
    }
   ],
   "source": [
    "plt.figure(figsize=(16, 16))\n",
    "\n",
    "# Distribution of Ratings\n",
    "plt.hist(df_numerical['rating'], bins=20, color='#003666', alpha=0.7, label='Rating')\n",
    "\n",
    "# Distribution of Members\n",
    "plt.hist(df_numerical['members'], bins=20, color='skyblue', alpha=0.7, label='Members')\n",
    "\n",
    "plt.title('Distribution of Ratings and Members')\n",
    "plt.xlabel('Value')\n",
    "plt.ylabel('Frequency')\n",
    "plt.legend()\n",
    "plt.grid(axis='y', alpha=0.7)\n",
    "plt.show()"
   ]
  },
  {
   "cell_type": "code",
   "execution_count": 20,
   "metadata": {},
   "outputs": [],
   "source": [
    "from sklearn.metrics.pairwise import cosine_similarity\n",
    "\n",
    "\n",
    "def recommend_similar_anime(df, target_anime, threshold=0.5):\n",
    "    df['episodes'] = pd.to_numeric(df['episodes'], errors='coerce')\n",
    "    df = df.dropna(subset=['episodes'])\n",
    "\n",
    "    # Extract features for similarity computation\n",
    "    features = df.drop(['name', 'type'], axis=1)\n",
    "    \n",
    "    # Find the target anime's features\n",
    "    target_row = features[df['name'] == target_anime]\n",
    "    \n",
    "    if target_row.empty:\n",
    "        return f\"Anime '{target_anime}' not found in the dataset.\"\n",
    "    \n",
    "    similarities = cosine_similarity(target_row, features).flatten()\n",
    "    \n",
    "\n",
    "    similar_indices = np.where((similarities > threshold) & (df['name'] != target_anime))[0] #get index of similar anime leaving the target anime\n",
    "    \n",
    "    recommended_anime = df.iloc[similar_indices]['name'].tolist() #return list of recommended animes\n",
    "    \n",
    "    return recommended_anime"
   ]
  },
  {
   "cell_type": "code",
   "execution_count": 21,
   "metadata": {},
   "outputs": [
    {
     "name": "stdout",
     "output_type": "stream",
     "text": [
      "Saru Kani Gassen           2\n",
      "Shi Wan Ge Leng Xiaohua    2\n",
      "Kimi no Na wa.             1\n",
      "Rebirth Moon Divergence    1\n",
      "Idol Fight Suchie-Pai 2    1\n",
      "dtype: int64\n"
     ]
    }
   ],
   "source": [
    "recommendations = recommend_similar_anime(df_numerical, 'Nana', threshold=0.5)\n",
    "recommendations_series = pd.Series(recommendations)\n",
    "top_5_recommendations = recommendations_series.value_counts().head(5)\n",
    "print(top_5_recommendations)"
   ]
  },
  {
   "cell_type": "markdown",
   "metadata": {},
   "source": [
    "Evaluation:"
   ]
  },
  {
   "cell_type": "code",
   "execution_count": 22,
   "metadata": {},
   "outputs": [],
   "source": [
    "df_numerical['liked'] = ((df_numerical['rating'] >= 1)).astype(int)"
   ]
  },
  {
   "cell_type": "code",
   "execution_count": 23,
   "metadata": {},
   "outputs": [
    {
     "data": {
      "text/html": [
       "<div>\n",
       "<style scoped>\n",
       "    .dataframe tbody tr th:only-of-type {\n",
       "        vertical-align: middle;\n",
       "    }\n",
       "\n",
       "    .dataframe tbody tr th {\n",
       "        vertical-align: top;\n",
       "    }\n",
       "\n",
       "    .dataframe thead th {\n",
       "        text-align: right;\n",
       "    }\n",
       "</style>\n",
       "<table border=\"1\" class=\"dataframe\">\n",
       "  <thead>\n",
       "    <tr style=\"text-align: right;\">\n",
       "      <th></th>\n",
       "      <th>anime_id</th>\n",
       "      <th>name</th>\n",
       "      <th>type</th>\n",
       "      <th>episodes</th>\n",
       "      <th>rating</th>\n",
       "      <th>members</th>\n",
       "      <th>Action</th>\n",
       "      <th>Adventure</th>\n",
       "      <th>Cars</th>\n",
       "      <th>Comedy</th>\n",
       "      <th>...</th>\n",
       "      <th>Slice of Life</th>\n",
       "      <th>Space</th>\n",
       "      <th>Sports</th>\n",
       "      <th>Super Power</th>\n",
       "      <th>Supernatural</th>\n",
       "      <th>Thriller</th>\n",
       "      <th>Vampire</th>\n",
       "      <th>Yaoi</th>\n",
       "      <th>Yuri</th>\n",
       "      <th>liked</th>\n",
       "    </tr>\n",
       "  </thead>\n",
       "  <tbody>\n",
       "    <tr>\n",
       "      <th>0</th>\n",
       "      <td>32281</td>\n",
       "      <td>Kimi no Na wa.</td>\n",
       "      <td>Movie</td>\n",
       "      <td>1.0</td>\n",
       "      <td>2.824474</td>\n",
       "      <td>3.292044</td>\n",
       "      <td>0</td>\n",
       "      <td>0</td>\n",
       "      <td>0</td>\n",
       "      <td>0</td>\n",
       "      <td>...</td>\n",
       "      <td>0</td>\n",
       "      <td>0</td>\n",
       "      <td>0</td>\n",
       "      <td>0</td>\n",
       "      <td>1</td>\n",
       "      <td>0</td>\n",
       "      <td>0</td>\n",
       "      <td>0</td>\n",
       "      <td>0</td>\n",
       "      <td>1</td>\n",
       "    </tr>\n",
       "    <tr>\n",
       "      <th>1</th>\n",
       "      <td>5114</td>\n",
       "      <td>Fullmetal Alchemist: Brotherhood</td>\n",
       "      <td>TV</td>\n",
       "      <td>64.0</td>\n",
       "      <td>2.717032</td>\n",
       "      <td>14.002410</td>\n",
       "      <td>1</td>\n",
       "      <td>1</td>\n",
       "      <td>0</td>\n",
       "      <td>0</td>\n",
       "      <td>...</td>\n",
       "      <td>0</td>\n",
       "      <td>0</td>\n",
       "      <td>0</td>\n",
       "      <td>0</td>\n",
       "      <td>0</td>\n",
       "      <td>0</td>\n",
       "      <td>0</td>\n",
       "      <td>0</td>\n",
       "      <td>0</td>\n",
       "      <td>1</td>\n",
       "    </tr>\n",
       "    <tr>\n",
       "      <th>2</th>\n",
       "      <td>28977</td>\n",
       "      <td>Gintama°</td>\n",
       "      <td>TV</td>\n",
       "      <td>51.0</td>\n",
       "      <td>2.707265</td>\n",
       "      <td>1.732216</td>\n",
       "      <td>1</td>\n",
       "      <td>0</td>\n",
       "      <td>0</td>\n",
       "      <td>1</td>\n",
       "      <td>...</td>\n",
       "      <td>0</td>\n",
       "      <td>0</td>\n",
       "      <td>0</td>\n",
       "      <td>0</td>\n",
       "      <td>0</td>\n",
       "      <td>0</td>\n",
       "      <td>0</td>\n",
       "      <td>0</td>\n",
       "      <td>0</td>\n",
       "      <td>1</td>\n",
       "    </tr>\n",
       "    <tr>\n",
       "      <th>3</th>\n",
       "      <td>9253</td>\n",
       "      <td>Steins;Gate</td>\n",
       "      <td>TV</td>\n",
       "      <td>24.0</td>\n",
       "      <td>2.629126</td>\n",
       "      <td>11.833499</td>\n",
       "      <td>0</td>\n",
       "      <td>0</td>\n",
       "      <td>0</td>\n",
       "      <td>0</td>\n",
       "      <td>...</td>\n",
       "      <td>0</td>\n",
       "      <td>0</td>\n",
       "      <td>0</td>\n",
       "      <td>0</td>\n",
       "      <td>0</td>\n",
       "      <td>1</td>\n",
       "      <td>0</td>\n",
       "      <td>0</td>\n",
       "      <td>0</td>\n",
       "      <td>1</td>\n",
       "    </tr>\n",
       "    <tr>\n",
       "      <th>4</th>\n",
       "      <td>9969</td>\n",
       "      <td>Gintama&amp;#039;</td>\n",
       "      <td>TV</td>\n",
       "      <td>51.0</td>\n",
       "      <td>2.619358</td>\n",
       "      <td>2.400518</td>\n",
       "      <td>1</td>\n",
       "      <td>0</td>\n",
       "      <td>0</td>\n",
       "      <td>1</td>\n",
       "      <td>...</td>\n",
       "      <td>0</td>\n",
       "      <td>0</td>\n",
       "      <td>0</td>\n",
       "      <td>0</td>\n",
       "      <td>0</td>\n",
       "      <td>0</td>\n",
       "      <td>0</td>\n",
       "      <td>0</td>\n",
       "      <td>0</td>\n",
       "      <td>1</td>\n",
       "    </tr>\n",
       "  </tbody>\n",
       "</table>\n",
       "<p>5 rows × 50 columns</p>\n",
       "</div>"
      ],
      "text/plain": [
       "   anime_id                              name   type  episodes    rating  \\\n",
       "0     32281                    Kimi no Na wa.  Movie       1.0  2.824474   \n",
       "1      5114  Fullmetal Alchemist: Brotherhood     TV      64.0  2.717032   \n",
       "2     28977                          Gintama°     TV      51.0  2.707265   \n",
       "3      9253                       Steins;Gate     TV      24.0  2.629126   \n",
       "4      9969                     Gintama&#039;     TV      51.0  2.619358   \n",
       "\n",
       "     members  Action  Adventure  Cars  Comedy  ...  Slice of Life  Space  \\\n",
       "0   3.292044       0          0     0       0  ...              0      0   \n",
       "1  14.002410       1          1     0       0  ...              0      0   \n",
       "2   1.732216       1          0     0       1  ...              0      0   \n",
       "3  11.833499       0          0     0       0  ...              0      0   \n",
       "4   2.400518       1          0     0       1  ...              0      0   \n",
       "\n",
       "   Sports  Super Power  Supernatural  Thriller  Vampire  Yaoi  Yuri  liked  \n",
       "0       0            0             1         0        0     0     0      1  \n",
       "1       0            0             0         0        0     0     0      1  \n",
       "2       0            0             0         0        0     0     0      1  \n",
       "3       0            0             0         1        0     0     0      1  \n",
       "4       0            0             0         0        0     0     0      1  \n",
       "\n",
       "[5 rows x 50 columns]"
      ]
     },
     "execution_count": 23,
     "metadata": {},
     "output_type": "execute_result"
    }
   ],
   "source": [
    "df_numerical.head()"
   ]
  },
  {
   "cell_type": "code",
   "execution_count": 24,
   "metadata": {},
   "outputs": [
    {
     "data": {
      "text/plain": [
       "anime_id           0\n",
       "name               0\n",
       "type               0\n",
       "episodes         187\n",
       "rating             0\n",
       "members            0\n",
       "Action             0\n",
       "Adventure          0\n",
       "Cars               0\n",
       "Comedy             0\n",
       "Dementia           0\n",
       "Demons             0\n",
       "Drama              0\n",
       "Ecchi              0\n",
       "Fantasy            0\n",
       "Game               0\n",
       "Harem              0\n",
       "Hentai             0\n",
       "Historical         0\n",
       "Horror             0\n",
       "Josei              0\n",
       "Kids               0\n",
       "Magic              0\n",
       "Martial Arts       0\n",
       "Mecha              0\n",
       "Military           0\n",
       "Music              0\n",
       "Mystery            0\n",
       "Parody             0\n",
       "Police             0\n",
       "Psychological      0\n",
       "Romance            0\n",
       "Samurai            0\n",
       "School             0\n",
       "Sci-Fi             0\n",
       "Seinen             0\n",
       "Shoujo             0\n",
       "Shoujo Ai          0\n",
       "Shounen            0\n",
       "Shounen Ai         0\n",
       "Slice of Life      0\n",
       "Space              0\n",
       "Sports             0\n",
       "Super Power        0\n",
       "Supernatural       0\n",
       "Thriller           0\n",
       "Vampire            0\n",
       "Yaoi               0\n",
       "Yuri               0\n",
       "liked              0\n",
       "dtype: int64"
      ]
     },
     "execution_count": 24,
     "metadata": {},
     "output_type": "execute_result"
    }
   ],
   "source": [
    "df_numerical.isnull().sum()"
   ]
  },
  {
   "cell_type": "code",
   "execution_count": 25,
   "metadata": {},
   "outputs": [],
   "source": [
    "df1=df_numerical.dropna()"
   ]
  },
  {
   "cell_type": "code",
   "execution_count": 26,
   "metadata": {},
   "outputs": [
    {
     "data": {
      "text/plain": [
       "anime_id         0\n",
       "name             0\n",
       "type             0\n",
       "episodes         0\n",
       "rating           0\n",
       "members          0\n",
       "Action           0\n",
       "Adventure        0\n",
       "Cars             0\n",
       "Comedy           0\n",
       "Dementia         0\n",
       "Demons           0\n",
       "Drama            0\n",
       "Ecchi            0\n",
       "Fantasy          0\n",
       "Game             0\n",
       "Harem            0\n",
       "Hentai           0\n",
       "Historical       0\n",
       "Horror           0\n",
       "Josei            0\n",
       "Kids             0\n",
       "Magic            0\n",
       "Martial Arts     0\n",
       "Mecha            0\n",
       "Military         0\n",
       "Music            0\n",
       "Mystery          0\n",
       "Parody           0\n",
       "Police           0\n",
       "Psychological    0\n",
       "Romance          0\n",
       "Samurai          0\n",
       "School           0\n",
       "Sci-Fi           0\n",
       "Seinen           0\n",
       "Shoujo           0\n",
       "Shoujo Ai        0\n",
       "Shounen          0\n",
       "Shounen Ai       0\n",
       "Slice of Life    0\n",
       "Space            0\n",
       "Sports           0\n",
       "Super Power      0\n",
       "Supernatural     0\n",
       "Thriller         0\n",
       "Vampire          0\n",
       "Yaoi             0\n",
       "Yuri             0\n",
       "liked            0\n",
       "dtype: int64"
      ]
     },
     "execution_count": 26,
     "metadata": {},
     "output_type": "execute_result"
    }
   ],
   "source": [
    "df1.isnull().sum()"
   ]
  },
  {
   "cell_type": "code",
   "execution_count": 27,
   "metadata": {},
   "outputs": [
    {
     "data": {
      "text/html": [
       "<div>\n",
       "<style scoped>\n",
       "    .dataframe tbody tr th:only-of-type {\n",
       "        vertical-align: middle;\n",
       "    }\n",
       "\n",
       "    .dataframe tbody tr th {\n",
       "        vertical-align: top;\n",
       "    }\n",
       "\n",
       "    .dataframe thead th {\n",
       "        text-align: right;\n",
       "    }\n",
       "</style>\n",
       "<table border=\"1\" class=\"dataframe\">\n",
       "  <thead>\n",
       "    <tr style=\"text-align: right;\">\n",
       "      <th></th>\n",
       "      <th>anime_id</th>\n",
       "      <th>episodes</th>\n",
       "      <th>rating</th>\n",
       "      <th>members</th>\n",
       "      <th>Action</th>\n",
       "      <th>Adventure</th>\n",
       "      <th>Cars</th>\n",
       "      <th>Comedy</th>\n",
       "      <th>Dementia</th>\n",
       "      <th>Demons</th>\n",
       "      <th>...</th>\n",
       "      <th>Slice of Life</th>\n",
       "      <th>Space</th>\n",
       "      <th>Sports</th>\n",
       "      <th>Super Power</th>\n",
       "      <th>Supernatural</th>\n",
       "      <th>Thriller</th>\n",
       "      <th>Vampire</th>\n",
       "      <th>Yaoi</th>\n",
       "      <th>Yuri</th>\n",
       "      <th>liked</th>\n",
       "    </tr>\n",
       "  </thead>\n",
       "  <tbody>\n",
       "    <tr>\n",
       "      <th>count</th>\n",
       "      <td>11830.000000</td>\n",
       "      <td>11830.000000</td>\n",
       "      <td>11830.000000</td>\n",
       "      <td>11830.000000</td>\n",
       "      <td>11830.000000</td>\n",
       "      <td>11830.000000</td>\n",
       "      <td>11830.000000</td>\n",
       "      <td>11830.000000</td>\n",
       "      <td>11830.000000</td>\n",
       "      <td>11830.000000</td>\n",
       "      <td>...</td>\n",
       "      <td>11830.000000</td>\n",
       "      <td>11830.000000</td>\n",
       "      <td>11830.000000</td>\n",
       "      <td>11830.000000</td>\n",
       "      <td>11830.000000</td>\n",
       "      <td>11830.000000</td>\n",
       "      <td>11830.000000</td>\n",
       "      <td>11830.000000</td>\n",
       "      <td>11830.000000</td>\n",
       "      <td>11830.000000</td>\n",
       "    </tr>\n",
       "    <tr>\n",
       "      <th>mean</th>\n",
       "      <td>13404.150211</td>\n",
       "      <td>12.486729</td>\n",
       "      <td>0.006197</td>\n",
       "      <td>0.002928</td>\n",
       "      <td>0.232291</td>\n",
       "      <td>0.193829</td>\n",
       "      <td>0.006002</td>\n",
       "      <td>0.378952</td>\n",
       "      <td>0.020118</td>\n",
       "      <td>0.024260</td>\n",
       "      <td>...</td>\n",
       "      <td>0.099746</td>\n",
       "      <td>0.031784</td>\n",
       "      <td>0.044548</td>\n",
       "      <td>0.037616</td>\n",
       "      <td>0.083939</td>\n",
       "      <td>0.007270</td>\n",
       "      <td>0.008453</td>\n",
       "      <td>0.003128</td>\n",
       "      <td>0.003466</td>\n",
       "      <td>0.142604</td>\n",
       "    </tr>\n",
       "    <tr>\n",
       "      <th>std</th>\n",
       "      <td>11110.087616</td>\n",
       "      <td>47.097131</td>\n",
       "      <td>0.995442</td>\n",
       "      <td>1.000023</td>\n",
       "      <td>0.422311</td>\n",
       "      <td>0.395313</td>\n",
       "      <td>0.077241</td>\n",
       "      <td>0.485147</td>\n",
       "      <td>0.140411</td>\n",
       "      <td>0.153863</td>\n",
       "      <td>...</td>\n",
       "      <td>0.299674</td>\n",
       "      <td>0.175431</td>\n",
       "      <td>0.206317</td>\n",
       "      <td>0.190274</td>\n",
       "      <td>0.277308</td>\n",
       "      <td>0.084955</td>\n",
       "      <td>0.091555</td>\n",
       "      <td>0.055840</td>\n",
       "      <td>0.058771</td>\n",
       "      <td>0.349683</td>\n",
       "    </tr>\n",
       "    <tr>\n",
       "      <th>min</th>\n",
       "      <td>1.000000</td>\n",
       "      <td>1.000000</td>\n",
       "      <td>-4.696423</td>\n",
       "      <td>-0.331169</td>\n",
       "      <td>0.000000</td>\n",
       "      <td>0.000000</td>\n",
       "      <td>0.000000</td>\n",
       "      <td>0.000000</td>\n",
       "      <td>0.000000</td>\n",
       "      <td>0.000000</td>\n",
       "      <td>...</td>\n",
       "      <td>0.000000</td>\n",
       "      <td>0.000000</td>\n",
       "      <td>0.000000</td>\n",
       "      <td>0.000000</td>\n",
       "      <td>0.000000</td>\n",
       "      <td>0.000000</td>\n",
       "      <td>0.000000</td>\n",
       "      <td>0.000000</td>\n",
       "      <td>0.000000</td>\n",
       "      <td>0.000000</td>\n",
       "    </tr>\n",
       "    <tr>\n",
       "      <th>25%</th>\n",
       "      <td>3326.250000</td>\n",
       "      <td>1.000000</td>\n",
       "      <td>-0.572139</td>\n",
       "      <td>-0.327191</td>\n",
       "      <td>0.000000</td>\n",
       "      <td>0.000000</td>\n",
       "      <td>0.000000</td>\n",
       "      <td>0.000000</td>\n",
       "      <td>0.000000</td>\n",
       "      <td>0.000000</td>\n",
       "      <td>...</td>\n",
       "      <td>0.000000</td>\n",
       "      <td>0.000000</td>\n",
       "      <td>0.000000</td>\n",
       "      <td>0.000000</td>\n",
       "      <td>0.000000</td>\n",
       "      <td>0.000000</td>\n",
       "      <td>0.000000</td>\n",
       "      <td>0.000000</td>\n",
       "      <td>0.000000</td>\n",
       "      <td>0.000000</td>\n",
       "    </tr>\n",
       "    <tr>\n",
       "      <th>50%</th>\n",
       "      <td>9820.500000</td>\n",
       "      <td>2.000000</td>\n",
       "      <td>0.089602</td>\n",
       "      <td>-0.302679</td>\n",
       "      <td>0.000000</td>\n",
       "      <td>0.000000</td>\n",
       "      <td>0.000000</td>\n",
       "      <td>0.000000</td>\n",
       "      <td>0.000000</td>\n",
       "      <td>0.000000</td>\n",
       "      <td>...</td>\n",
       "      <td>0.000000</td>\n",
       "      <td>0.000000</td>\n",
       "      <td>0.000000</td>\n",
       "      <td>0.000000</td>\n",
       "      <td>0.000000</td>\n",
       "      <td>0.000000</td>\n",
       "      <td>0.000000</td>\n",
       "      <td>0.000000</td>\n",
       "      <td>0.000000</td>\n",
       "      <td>0.000000</td>\n",
       "    </tr>\n",
       "    <tr>\n",
       "      <th>75%</th>\n",
       "      <td>23302.500000</td>\n",
       "      <td>12.000000</td>\n",
       "      <td>0.695181</td>\n",
       "      <td>-0.153817</td>\n",
       "      <td>0.000000</td>\n",
       "      <td>0.000000</td>\n",
       "      <td>0.000000</td>\n",
       "      <td>1.000000</td>\n",
       "      <td>0.000000</td>\n",
       "      <td>0.000000</td>\n",
       "      <td>...</td>\n",
       "      <td>0.000000</td>\n",
       "      <td>0.000000</td>\n",
       "      <td>0.000000</td>\n",
       "      <td>0.000000</td>\n",
       "      <td>0.000000</td>\n",
       "      <td>0.000000</td>\n",
       "      <td>0.000000</td>\n",
       "      <td>0.000000</td>\n",
       "      <td>0.000000</td>\n",
       "      <td>0.000000</td>\n",
       "    </tr>\n",
       "    <tr>\n",
       "      <th>max</th>\n",
       "      <td>34519.000000</td>\n",
       "      <td>1818.000000</td>\n",
       "      <td>3.439820</td>\n",
       "      <td>17.980218</td>\n",
       "      <td>1.000000</td>\n",
       "      <td>1.000000</td>\n",
       "      <td>1.000000</td>\n",
       "      <td>1.000000</td>\n",
       "      <td>1.000000</td>\n",
       "      <td>1.000000</td>\n",
       "      <td>...</td>\n",
       "      <td>1.000000</td>\n",
       "      <td>1.000000</td>\n",
       "      <td>1.000000</td>\n",
       "      <td>1.000000</td>\n",
       "      <td>1.000000</td>\n",
       "      <td>1.000000</td>\n",
       "      <td>1.000000</td>\n",
       "      <td>1.000000</td>\n",
       "      <td>1.000000</td>\n",
       "      <td>1.000000</td>\n",
       "    </tr>\n",
       "  </tbody>\n",
       "</table>\n",
       "<p>8 rows × 48 columns</p>\n",
       "</div>"
      ],
      "text/plain": [
       "           anime_id      episodes        rating       members        Action  \\\n",
       "count  11830.000000  11830.000000  11830.000000  11830.000000  11830.000000   \n",
       "mean   13404.150211     12.486729      0.006197      0.002928      0.232291   \n",
       "std    11110.087616     47.097131      0.995442      1.000023      0.422311   \n",
       "min        1.000000      1.000000     -4.696423     -0.331169      0.000000   \n",
       "25%     3326.250000      1.000000     -0.572139     -0.327191      0.000000   \n",
       "50%     9820.500000      2.000000      0.089602     -0.302679      0.000000   \n",
       "75%    23302.500000     12.000000      0.695181     -0.153817      0.000000   \n",
       "max    34519.000000   1818.000000      3.439820     17.980218      1.000000   \n",
       "\n",
       "          Adventure          Cars        Comedy      Dementia        Demons  \\\n",
       "count  11830.000000  11830.000000  11830.000000  11830.000000  11830.000000   \n",
       "mean       0.193829      0.006002      0.378952      0.020118      0.024260   \n",
       "std        0.395313      0.077241      0.485147      0.140411      0.153863   \n",
       "min        0.000000      0.000000      0.000000      0.000000      0.000000   \n",
       "25%        0.000000      0.000000      0.000000      0.000000      0.000000   \n",
       "50%        0.000000      0.000000      0.000000      0.000000      0.000000   \n",
       "75%        0.000000      0.000000      1.000000      0.000000      0.000000   \n",
       "max        1.000000      1.000000      1.000000      1.000000      1.000000   \n",
       "\n",
       "       ...  Slice of Life         Space        Sports   Super Power  \\\n",
       "count  ...   11830.000000  11830.000000  11830.000000  11830.000000   \n",
       "mean   ...       0.099746      0.031784      0.044548      0.037616   \n",
       "std    ...       0.299674      0.175431      0.206317      0.190274   \n",
       "min    ...       0.000000      0.000000      0.000000      0.000000   \n",
       "25%    ...       0.000000      0.000000      0.000000      0.000000   \n",
       "50%    ...       0.000000      0.000000      0.000000      0.000000   \n",
       "75%    ...       0.000000      0.000000      0.000000      0.000000   \n",
       "max    ...       1.000000      1.000000      1.000000      1.000000   \n",
       "\n",
       "       Supernatural      Thriller       Vampire          Yaoi          Yuri  \\\n",
       "count  11830.000000  11830.000000  11830.000000  11830.000000  11830.000000   \n",
       "mean       0.083939      0.007270      0.008453      0.003128      0.003466   \n",
       "std        0.277308      0.084955      0.091555      0.055840      0.058771   \n",
       "min        0.000000      0.000000      0.000000      0.000000      0.000000   \n",
       "25%        0.000000      0.000000      0.000000      0.000000      0.000000   \n",
       "50%        0.000000      0.000000      0.000000      0.000000      0.000000   \n",
       "75%        0.000000      0.000000      0.000000      0.000000      0.000000   \n",
       "max        1.000000      1.000000      1.000000      1.000000      1.000000   \n",
       "\n",
       "              liked  \n",
       "count  11830.000000  \n",
       "mean       0.142604  \n",
       "std        0.349683  \n",
       "min        0.000000  \n",
       "25%        0.000000  \n",
       "50%        0.000000  \n",
       "75%        0.000000  \n",
       "max        1.000000  \n",
       "\n",
       "[8 rows x 48 columns]"
      ]
     },
     "execution_count": 27,
     "metadata": {},
     "output_type": "execute_result"
    }
   ],
   "source": [
    "df1.describe()"
   ]
  },
  {
   "cell_type": "code",
   "execution_count": 28,
   "metadata": {},
   "outputs": [
    {
     "name": "stdout",
     "output_type": "stream",
     "text": [
      "0    10143\n",
      "1     1687\n",
      "Name: liked, dtype: int64\n"
     ]
    }
   ],
   "source": [
    "print(df1['liked'].value_counts())"
   ]
  },
  {
   "cell_type": "code",
   "execution_count": 29,
   "metadata": {},
   "outputs": [
    {
     "name": "stdout",
     "output_type": "stream",
     "text": [
      "Shape of X_train: (9464, 47)\n",
      "Shape of X_test: (2366, 47)\n",
      "Shape of y_train: (9464,)\n",
      "Shape of y_test: (2366,)\n"
     ]
    }
   ],
   "source": [
    "# spilitting data into training and testing\n",
    "from sklearn.model_selection import train_test_split\n",
    "from sklearn.linear_model import LogisticRegression\n",
    "\n",
    "X = df1.drop(['name', 'type','anime_id'], axis=1)\n",
    "y = df1['liked']  # Target variable\n",
    "\n",
    "X_train, X_test, y_train, y_test = train_test_split(X, y, test_size=0.2, random_state=42)\n",
    "\n",
    "model = LogisticRegression()\n",
    "model.fit(X_train, y_train)\n",
    "print(\"Shape of X_train:\", X_train.shape)\n",
    "print(\"Shape of X_test:\", X_test.shape)\n",
    "print(\"Shape of y_train:\", y_train.shape)\n",
    "print(\"Shape of y_test:\", y_test.shape)"
   ]
  },
  {
   "cell_type": "code",
   "execution_count": 30,
   "metadata": {},
   "outputs": [
    {
     "name": "stdout",
     "output_type": "stream",
     "text": [
      "Accuracy: 1.0\n"
     ]
    }
   ],
   "source": [
    "from sklearn.metrics import accuracy_score\n",
    "\n",
    "y_pred = model.predict(X_test)\n",
    "\n",
    "# Calculating accuracy\n",
    "accuracy = accuracy_score(y_test, y_pred)\n",
    "print(\"Accuracy:\", accuracy)"
   ]
  },
  {
   "cell_type": "markdown",
   "metadata": {},
   "source": [
    "An accuracy score of 1.0 indicates that the model achieved perfect accuracy on the testing data"
   ]
  },
  {
   "cell_type": "code",
   "execution_count": 31,
   "metadata": {},
   "outputs": [
    {
     "name": "stdout",
     "output_type": "stream",
     "text": [
      "Precision: 1.0\n",
      "Recall: 1.0\n",
      "F1-score: 1.0\n"
     ]
    }
   ],
   "source": [
    "from sklearn.linear_model import LogisticRegression\n",
    "from sklearn.preprocessing import StandardScaler\n",
    "from sklearn.metrics import precision_score, recall_score, f1_score\n",
    "\n",
    "scaler = StandardScaler()\n",
    "X_train_scaled = scaler.fit_transform(X_train)\n",
    "X_test_scaled = scaler.transform(X_test)\n",
    "\n",
    "model = LogisticRegression()\n",
    "model.fit(X_train_scaled, y_train)\n",
    "\n",
    "\n",
    "y_pred = model.predict(X_test_scaled)\n",
    "\n",
    "precision = precision_score(y_test, y_pred)\n",
    "recall = recall_score(y_test, y_pred)\n",
    "f1 = f1_score(y_test, y_pred)\n",
    "\n",
    "print(\"Precision:\", precision)\n",
    "print(\"Recall:\", recall)\n",
    "print(\"F1-score:\", f1)"
   ]
  },
  {
   "cell_type": "markdown",
   "metadata": {},
   "source": [
    "## Interview Questions:\n"
   ]
  },
  {
   "cell_type": "markdown",
   "metadata": {},
   "source": [
    "1. Can you explain the difference between user-based and item-based collaborative filtering?\n",
    "\n",
    "User-Based Collaborative Filtering:\n",
    "User-based collaborative filtering makes recommendations by finding users similar to the target user and recommending items that those similar users have like.\n",
    "\n",
    "Item-Based Collaborative Filtering\n",
    "Item-based collaborative filtering makes recommendations by finding items similar to the ones the target user has interacted with and recommending those similar items.\n"
   ]
  },
  {
   "cell_type": "markdown",
   "metadata": {},
   "source": [
    "2. What is collaborative filtering, and how does it work?\n",
    "\n",
    "Collaborative filtering is a technique used in recommendation systems to predict a user's preferences based on the preferences of other users. The core idea is that users who have agreed in the past will agree in the future, and items that have similar appeal to users will continue to have similar appeal."
   ]
  },
  {
   "cell_type": "code",
   "execution_count": null,
   "metadata": {},
   "outputs": [],
   "source": []
  },
  {
   "cell_type": "code",
   "execution_count": null,
   "metadata": {},
   "outputs": [],
   "source": []
  }
 ],
 "metadata": {
  "kernelspec": {
   "display_name": "Python 3 (ipykernel)",
   "language": "python",
   "name": "python3"
  },
  "language_info": {
   "codemirror_mode": {
    "name": "ipython",
    "version": 3
   },
   "file_extension": ".py",
   "mimetype": "text/x-python",
   "name": "python",
   "nbconvert_exporter": "python",
   "pygments_lexer": "ipython3",
   "version": "3.11.7"
  }
 },
 "nbformat": 4,
 "nbformat_minor": 4
}
